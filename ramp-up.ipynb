{
 "cells": [
  {
   "cell_type": "code",
   "execution_count": 3,
   "id": "01cb8f4e-d887-476b-a784-5fa7014c3dc3",
   "metadata": {},
   "outputs": [],
   "source": [
    "for i in range(0, 100):\n",
    "    i = i + 1"
   ]
  },
  {
   "cell_type": "code",
   "execution_count": null,
   "id": "9366ec3e-ea28-4aaa-877e-aed847c01331",
   "metadata": {},
   "outputs": [],
   "source": []
  }
 ],
 "metadata": {
  "kernelspec": {
   "display_name": "Python 3 (ipykernel)",
   "language": "python",
   "name": "python3"
  },
  "language_info": {
   "codemirror_mode": {
    "name": "ipython",
    "version": 3
   },
   "file_extension": ".py",
   "mimetype": "text/x-python",
   "name": "python",
   "nbconvert_exporter": "python",
   "pygments_lexer": "ipython3",
   "version": "3.8.10"
  }
 },
 "nbformat": 4,
 "nbformat_minor": 5
}
